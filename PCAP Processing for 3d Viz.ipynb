{
 "cells": [
  {
   "cell_type": "code",
   "execution_count": null,
   "metadata": {},
   "outputs": [],
   "source": [
    "import pandas as pd\n",
    "import json\n",
    "import re"
   ]
  },
  {
   "cell_type": "code",
   "execution_count": null,
   "metadata": {},
   "outputs": [],
   "source": [
    "filename = input(\"File you want processed: \")\n",
    "df = pd.read_csv((filename+'.csv'), index_col=0)\n",
    "src_dst = df[[\"Source\",\"Destination\"]].copy()\n",
    "src_dst.rename(columns={\"Source\":\"source\",\"Destination\":\"target\"}, inplace=True)"
   ]
  },
  {
   "cell_type": "code",
   "execution_count": null,
   "metadata": {
    "scrolled": true
   },
   "outputs": [],
   "source": [
    "def ip_matcher(address):\n",
    "    # Used to validate if string is an ipaddress\n",
    "    ip = re.match(\n",
    "        '^(?:(?:25[0-5]|2[0-4][0-9]|[01]?[0-9][0-9]?)\\.){3}(?:25[0-5]|2[0-4][0-9]|[01]?[0-9][0-9]?)$', address)\n",
    "    if ip:\n",
    "        return True\n",
    "    else:\n",
    "        return False\n",
    "\n",
    "src_dst['valid_src'] = src_dst.source.apply(ip_matcher)\n",
    "src_dst['valid_target'] = src_dst.target.apply(ip_matcher)\n",
    "\n",
    "valid_src_dest = src_dst[(src_dst.valid_src==True) & (src_dst.valid_target==True)]"
   ]
  },
  {
   "cell_type": "code",
   "execution_count": null,
   "metadata": {},
   "outputs": [],
   "source": [
    "grouped_src_dst2 = valid_src_dest.groupby([\"source\",\"target\"]).size().reset_index()"
   ]
  },
  {
   "cell_type": "code",
   "execution_count": null,
   "metadata": {},
   "outputs": [],
   "source": [
    "grouped_src_dst = src_dst.groupby([\"source\",\"target\"]).size().reset_index()"
   ]
  },
  {
   "cell_type": "code",
   "execution_count": null,
   "metadata": {},
   "outputs": [],
   "source": [
    "unique_ips = pd.Index(grouped_src_dst['source']\n",
    "                      .append(grouped_src_dst['target'])\n",
    "                      .reset_index(drop=True).unique())"
   ]
  },
  {
   "cell_type": "code",
   "execution_count": null,
   "metadata": {},
   "outputs": [],
   "source": [
    "group_dict = {}\n",
    "counter = 0\n",
    "for ip in unique_ips:\n",
    "    breakout_ip = re.match(\"^(\\d{1,3})\\.(\\d{1,3})\\.(\\d{1,3})\\.(\\d{1,3})$\", ip)\n",
    "    if breakout_ip:\n",
    "        net_id = '.'.join(breakout_ip.group(1,2,3,4))\n",
    "        if net_id not in group_dict:\n",
    "            counter += 1\n",
    "            group_dict[net_id] = counter\n",
    "        else:\n",
    "            pass"
   ]
  },
  {
   "cell_type": "code",
   "execution_count": null,
   "metadata": {},
   "outputs": [],
   "source": [
    "grouped_src_dst.rename(columns={0:'count'}, inplace=True)\n",
    "temp_links_list = list(grouped_src_dst.apply(lambda row: {\"source\": row['source'], \"target\": row['target'], \"value\": row['count']}, axis=1))"
   ]
  },
  {
   "cell_type": "code",
   "execution_count": null,
   "metadata": {},
   "outputs": [],
   "source": [
    "nodes_list = []\n",
    "for ip in unique_ips:\n",
    "    breakout_ip = re.match(\"^(\\d{1,3})\\.(\\d{1,3})\\.(\\d{1,3})\\.(\\d{1,3})$\", ip)\n",
    "    if breakout_ip:\n",
    "        net_id = '.'.join(breakout_ip.group(1,2,3,4))\n",
    "        nodes_list.append({\"id\": str(group_dict.get(net_id)), \"name\":ip})"
   ]
  },
  {
   "cell_type": "code",
   "execution_count": null,
   "metadata": {},
   "outputs": [],
   "source": [
    "links_list = []\n",
    "for link in temp_links_list:\n",
    "    linkVal = link['value']\n",
    "    source = link['source']\n",
    "    target = link['target']\n",
    "    for nodez in nodes_list:\n",
    "        if source == nodez['name']:\n",
    "            new_source = nodez['id']\n",
    "        if target == nodez['name']:\n",
    "            new_target = nodez['id']\n",
    "            record = {\"value\":linkVal, \"source\":new_source, \"target\": new_target}\n",
    "            links_list.append(record)"
   ]
  },
  {
   "cell_type": "code",
   "execution_count": null,
   "metadata": {},
   "outputs": [],
   "source": [
    "json_prep = {\"nodes\":nodes_list, \"links\":links_list}"
   ]
  },
  {
   "cell_type": "code",
   "execution_count": null,
   "metadata": {},
   "outputs": [],
   "source": [
    "json_dump = json.dumps(json_prep, indent=1, sort_keys=True)"
   ]
  },
  {
   "cell_type": "code",
   "execution_count": null,
   "metadata": {},
   "outputs": [],
   "source": [
    "filename_out = (filename + '.json')\n",
    "json_out = open(filename_out,'w')\n",
    "json_out.write(json_dump)\n",
    "json_out.close()"
   ]
  }
 ],
 "metadata": {
  "kernelspec": {
   "display_name": "Python 3",
   "language": "python",
   "name": "python3"
  },
  "language_info": {
   "codemirror_mode": {
    "name": "ipython",
    "version": 3
   },
   "file_extension": ".py",
   "mimetype": "text/x-python",
   "name": "python",
   "nbconvert_exporter": "python",
   "pygments_lexer": "ipython3",
   "version": "3.8.5"
  }
 },
 "nbformat": 4,
 "nbformat_minor": 4
}
